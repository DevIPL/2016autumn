{
 "cells": [
  {
   "cell_type": "markdown",
   "metadata": {},
   "source": [
    "# Rはどのようにしてfor文を避けているか\n",
    "\n",
    "近年、for文をdisる風潮が高まってきていることは\n",
    "みなさんも薄々肌で感じているのではないかと思います。\n",
    "\n",
    "ここでは、普段あまり見慣れないRコードを題材とし、そこでは\n",
    "どのようにしてループ処理を簡潔にしているか、いくつか例を紹介します。"
   ]
  },
  {
   "cell_type": "markdown",
   "metadata": {},
   "source": [
    "## お題1: 表形式のデータに対して、1列計算結果を追加せよ\n",
    "対象データとして、数理統計学のチュートリアルで良く用いられる`iris`データを使用します。"
   ]
  },
  {
   "cell_type": "code",
   "execution_count": 128,
   "metadata": {
    "collapsed": true
   },
   "outputs": [],
   "source": [
    "# 必要なパッケージの読み込み\n",
    "#install.packages('purrrlyr')\n",
    "library(dplyr)\n",
    "library(purrr)\n",
    "library(purrrlyr)\n",
    "# kmeansのplot用\n",
    "library(cluster)"
   ]
  },
  {
   "cell_type": "code",
   "execution_count": 91,
   "metadata": {},
   "outputs": [
    {
     "data": {
      "text/html": [
       "<table>\n",
       "<thead><tr><th scope=col>Sepal.Length</th><th scope=col>Sepal.Width</th><th scope=col>Petal.Length</th><th scope=col>Petal.Width</th><th scope=col>Species</th></tr></thead>\n",
       "<tbody>\n",
       "\t<tr><td>5.1   </td><td>3.5   </td><td>1.4   </td><td>0.2   </td><td>setosa</td></tr>\n",
       "\t<tr><td>4.9   </td><td>3.0   </td><td>1.4   </td><td>0.2   </td><td>setosa</td></tr>\n",
       "\t<tr><td>4.7   </td><td>3.2   </td><td>1.3   </td><td>0.2   </td><td>setosa</td></tr>\n",
       "\t<tr><td>4.6   </td><td>3.1   </td><td>1.5   </td><td>0.2   </td><td>setosa</td></tr>\n",
       "\t<tr><td>5.0   </td><td>3.6   </td><td>1.4   </td><td>0.2   </td><td>setosa</td></tr>\n",
       "\t<tr><td>5.4   </td><td>3.9   </td><td>1.7   </td><td>0.4   </td><td>setosa</td></tr>\n",
       "</tbody>\n",
       "</table>\n"
      ],
      "text/latex": [
       "\\begin{tabular}{r|lllll}\n",
       " Sepal.Length & Sepal.Width & Petal.Length & Petal.Width & Species\\\\\n",
       "\\hline\n",
       "\t 5.1    & 3.5    & 1.4    & 0.2    & setosa\\\\\n",
       "\t 4.9    & 3.0    & 1.4    & 0.2    & setosa\\\\\n",
       "\t 4.7    & 3.2    & 1.3    & 0.2    & setosa\\\\\n",
       "\t 4.6    & 3.1    & 1.5    & 0.2    & setosa\\\\\n",
       "\t 5.0    & 3.6    & 1.4    & 0.2    & setosa\\\\\n",
       "\t 5.4    & 3.9    & 1.7    & 0.4    & setosa\\\\\n",
       "\\end{tabular}\n"
      ],
      "text/markdown": [
       "\n",
       "Sepal.Length | Sepal.Width | Petal.Length | Petal.Width | Species | \n",
       "|---|---|---|---|---|---|\n",
       "| 5.1    | 3.5    | 1.4    | 0.2    | setosa | \n",
       "| 4.9    | 3.0    | 1.4    | 0.2    | setosa | \n",
       "| 4.7    | 3.2    | 1.3    | 0.2    | setosa | \n",
       "| 4.6    | 3.1    | 1.5    | 0.2    | setosa | \n",
       "| 5.0    | 3.6    | 1.4    | 0.2    | setosa | \n",
       "| 5.4    | 3.9    | 1.7    | 0.4    | setosa | \n",
       "\n",
       "\n"
      ],
      "text/plain": [
       "  Sepal.Length Sepal.Width Petal.Length Petal.Width Species\n",
       "1 5.1          3.5         1.4          0.2         setosa \n",
       "2 4.9          3.0         1.4          0.2         setosa \n",
       "3 4.7          3.2         1.3          0.2         setosa \n",
       "4 4.6          3.1         1.5          0.2         setosa \n",
       "5 5.0          3.6         1.4          0.2         setosa \n",
       "6 5.4          3.9         1.7          0.4         setosa "
      ]
     },
     "metadata": {},
     "output_type": "display_data"
    }
   ],
   "source": [
    "head(iris) # head()はdata.frameの先頭数件だけに絞ってくれる\n",
    "?iris"
   ]
  },
  {
   "cell_type": "markdown",
   "metadata": {},
   "source": [
    "割りと有名な、がくと花弁から花の種類を判別するためのデータ・セットです。\n",
    "\n",
    "念のため、図説。\n",
    "\n",
    "![](https://www.wpclipart.com/plants/diagrams/plant_parts/petal_sepal_label.png)\n",
    "\n",
    "上記のような表形式のデータ構造(`data.frame`)に対して、**行**ごとになんらかの値を計算し、新しい列として追加します。\n",
    "\n",
    "ここでは、**irisデータの1列目(`Sepal.Length`)が5以上かどうかを○×判定する**出力**列を最後列として追加してください。**"
   ]
  },
  {
   "cell_type": "markdown",
   "metadata": {},
   "source": [
    "### Rをはじめて触る人が書きそうなコード\n",
    "素朴にfor文を用いて処理してみます。"
   ]
  },
  {
   "cell_type": "code",
   "execution_count": 111,
   "metadata": {},
   "outputs": [
    {
     "data": {
      "text/html": [
       "<table>\n",
       "<thead><tr><th scope=col>Sepal.Length</th><th scope=col>Sepal.Width</th><th scope=col>Petal.Length</th><th scope=col>Petal.Width</th><th scope=col>Species</th><th scope=col>出力</th></tr></thead>\n",
       "<tbody>\n",
       "\t<tr><td>5.1   </td><td>3.5   </td><td>1.4   </td><td>0.2   </td><td>setosa</td><td>○     </td></tr>\n",
       "\t<tr><td>4.9   </td><td>3.0   </td><td>1.4   </td><td>0.2   </td><td>setosa</td><td>×     </td></tr>\n",
       "\t<tr><td>4.7   </td><td>3.2   </td><td>1.3   </td><td>0.2   </td><td>setosa</td><td>×     </td></tr>\n",
       "\t<tr><td>4.6   </td><td>3.1   </td><td>1.5   </td><td>0.2   </td><td>setosa</td><td>×     </td></tr>\n",
       "\t<tr><td>5.0   </td><td>3.6   </td><td>1.4   </td><td>0.2   </td><td>setosa</td><td>○     </td></tr>\n",
       "\t<tr><td>5.4   </td><td>3.9   </td><td>1.7   </td><td>0.4   </td><td>setosa</td><td>○     </td></tr>\n",
       "</tbody>\n",
       "</table>\n"
      ],
      "text/latex": [
       "\\begin{tabular}{r|llllll}\n",
       " Sepal.Length & Sepal.Width & Petal.Length & Petal.Width & Species & 出力\\\\\n",
       "\\hline\n",
       "\t 5.1    & 3.5    & 1.4    & 0.2    & setosa & ○     \\\\\n",
       "\t 4.9    & 3.0    & 1.4    & 0.2    & setosa & ×     \\\\\n",
       "\t 4.7    & 3.2    & 1.3    & 0.2    & setosa & ×     \\\\\n",
       "\t 4.6    & 3.1    & 1.5    & 0.2    & setosa & ×     \\\\\n",
       "\t 5.0    & 3.6    & 1.4    & 0.2    & setosa & ○     \\\\\n",
       "\t 5.4    & 3.9    & 1.7    & 0.4    & setosa & ○     \\\\\n",
       "\\end{tabular}\n"
      ],
      "text/markdown": [
       "\n",
       "Sepal.Length | Sepal.Width | Petal.Length | Petal.Width | Species | 出力 | \n",
       "|---|---|---|---|---|---|\n",
       "| 5.1    | 3.5    | 1.4    | 0.2    | setosa | ○      | \n",
       "| 4.9    | 3.0    | 1.4    | 0.2    | setosa | ×      | \n",
       "| 4.7    | 3.2    | 1.3    | 0.2    | setosa | ×      | \n",
       "| 4.6    | 3.1    | 1.5    | 0.2    | setosa | ×      | \n",
       "| 5.0    | 3.6    | 1.4    | 0.2    | setosa | ○      | \n",
       "| 5.4    | 3.9    | 1.7    | 0.4    | setosa | ○      | \n",
       "\n",
       "\n"
      ],
      "text/plain": [
       "  Sepal.Length Sepal.Width Petal.Length Petal.Width Species 出力\n",
       "1 5.1          3.5         1.4          0.2         setosa  ○   \n",
       "2 4.9          3.0         1.4          0.2         setosa  ×   \n",
       "3 4.7          3.2         1.3          0.2         setosa  ×   \n",
       "4 4.6          3.1         1.5          0.2         setosa  ×   \n",
       "5 5.0          3.6         1.4          0.2         setosa  ○   \n",
       "6 5.4          3.9         1.7          0.4         setosa  ○   "
      ]
     },
     "metadata": {},
     "output_type": "display_data"
    }
   ],
   "source": [
    "# 適当な定数\n",
    "T_CHR <- '○'\n",
    "F_CHR <- '×'\n",
    "\n",
    "# 関数定義\n",
    "# ここでは、入力された値が十分大きければ○、そうでなければ×を返す。\n",
    "mark_long <- function(x) {\n",
    "  ifelse(x >= 5, T_CHR, F_CHR)\n",
    "}\n",
    "\n",
    "# 処理部\n",
    "\n",
    "new_vals <- c()\n",
    "for (i in iris$Sepal.Length) {\n",
    "  new_vals <- c(new_vals, mark_long(i))    \n",
    "}\n",
    "iris$`出力` <- new_vals # 「出力」という列名で列追加\n",
    "head(iris)"
   ]
  },
  {
   "cell_type": "markdown",
   "metadata": {},
   "source": [
    "for文は`Python`に似ているでしょうか。`C`などと違って、`i`には`Sepal.Length`の各値が入ります。\n",
    "もし、よりCらしく書くならば、for文内のiは\n",
    "\n",
    "```\n",
    "for (i in seq_along(iris$Sepal.Length)) {\n",
    "  new_vals <- c(new_vals, mark_long(iris$Sepal.Length[i]))\n",
    "}\n",
    "```\n",
    "\n",
    "のようになります。"
   ]
  },
  {
   "cell_type": "markdown",
   "metadata": {},
   "source": [
    "### Rの基本はベクトルだよと習った先ほどの人\n",
    "実は、Rではデータの基本単位がベクトル（配列）になります。\n",
    "そのため、関数は引数にベクトルが渡された場合、各ベクトルに対して一括で処理を行い、結果のベクトルを返します。"
   ]
  },
  {
   "cell_type": "code",
   "execution_count": 46,
   "metadata": {},
   "outputs": [
    {
     "name": "stdout",
     "output_type": "stream",
     "text": [
      "[1] 101 102 103 104 105\n"
     ]
    },
    {
     "name": "stderr",
     "output_type": "stream",
     "text": [
      "Warning message in b + c:\n",
      "“longer object length is not a multiple of shorter object length”"
     ]
    },
    {
     "data": {
      "text/html": [
       "<ol class=list-inline>\n",
       "\t<li>11</li>\n",
       "\t<li>22</li>\n",
       "\t<li>13</li>\n",
       "\t<li>24</li>\n",
       "\t<li>15</li>\n",
       "</ol>\n"
      ],
      "text/latex": [
       "\\begin{enumerate*}\n",
       "\\item 11\n",
       "\\item 22\n",
       "\\item 13\n",
       "\\item 24\n",
       "\\item 15\n",
       "\\end{enumerate*}\n"
      ],
      "text/markdown": [
       "1. 11\n",
       "2. 22\n",
       "3. 13\n",
       "4. 24\n",
       "5. 15\n",
       "\n",
       "\n"
      ],
      "text/plain": [
       "[1] 11 22 13 24 15"
      ]
     },
     "metadata": {},
     "output_type": "display_data"
    }
   ],
   "source": [
    "# 基本はベクトル\n",
    "s1 <- '○' # これは要素1の文字列ベクトル\n",
    "s2 <- c('○','×','△') # これは要素3の文字列ベクトル\n",
    "\n",
    "a <- 100 # これは要素1の数値ベクトル\n",
    "b <- c(1,2,3,4,5) # これは要素5の数値ベクトル\n",
    "print(a + b)\n",
    "\n",
    "c <- c(10,20)\n",
    "(b + c) # 要素数が一致しなくても一応計算できる"
   ]
  },
  {
   "cell_type": "markdown",
   "metadata": {},
   "source": [
    "これを踏まえて、先程のfor文を書き換えてみます。\n",
    "実はfor文は不要だったことがわかります。"
   ]
  },
  {
   "cell_type": "code",
   "execution_count": 41,
   "metadata": {},
   "outputs": [
    {
     "data": {
      "text/html": [
       "<table>\n",
       "<thead><tr><th scope=col>Sepal.Length</th><th scope=col>Sepal.Width</th><th scope=col>Petal.Length</th><th scope=col>Petal.Width</th><th scope=col>Species</th><th scope=col>出力</th></tr></thead>\n",
       "<tbody>\n",
       "\t<tr><td>5.1   </td><td>3.5   </td><td>1.4   </td><td>0.2   </td><td>setosa</td><td>○     </td></tr>\n",
       "\t<tr><td>4.9   </td><td>3.0   </td><td>1.4   </td><td>0.2   </td><td>setosa</td><td>×     </td></tr>\n",
       "\t<tr><td>4.7   </td><td>3.2   </td><td>1.3   </td><td>0.2   </td><td>setosa</td><td>×     </td></tr>\n",
       "\t<tr><td>4.6   </td><td>3.1   </td><td>1.5   </td><td>0.2   </td><td>setosa</td><td>×     </td></tr>\n",
       "\t<tr><td>5.0   </td><td>3.6   </td><td>1.4   </td><td>0.2   </td><td>setosa</td><td>○     </td></tr>\n",
       "\t<tr><td>5.4   </td><td>3.9   </td><td>1.7   </td><td>0.4   </td><td>setosa</td><td>○     </td></tr>\n",
       "</tbody>\n",
       "</table>\n"
      ],
      "text/latex": [
       "\\begin{tabular}{r|llllll}\n",
       " Sepal.Length & Sepal.Width & Petal.Length & Petal.Width & Species & 出力\\\\\n",
       "\\hline\n",
       "\t 5.1    & 3.5    & 1.4    & 0.2    & setosa & ○     \\\\\n",
       "\t 4.9    & 3.0    & 1.4    & 0.2    & setosa & ×     \\\\\n",
       "\t 4.7    & 3.2    & 1.3    & 0.2    & setosa & ×     \\\\\n",
       "\t 4.6    & 3.1    & 1.5    & 0.2    & setosa & ×     \\\\\n",
       "\t 5.0    & 3.6    & 1.4    & 0.2    & setosa & ○     \\\\\n",
       "\t 5.4    & 3.9    & 1.7    & 0.4    & setosa & ○     \\\\\n",
       "\\end{tabular}\n"
      ],
      "text/markdown": [
       "\n",
       "Sepal.Length | Sepal.Width | Petal.Length | Petal.Width | Species | 出力 | \n",
       "|---|---|---|---|---|---|\n",
       "| 5.1    | 3.5    | 1.4    | 0.2    | setosa | ○      | \n",
       "| 4.9    | 3.0    | 1.4    | 0.2    | setosa | ×      | \n",
       "| 4.7    | 3.2    | 1.3    | 0.2    | setosa | ×      | \n",
       "| 4.6    | 3.1    | 1.5    | 0.2    | setosa | ×      | \n",
       "| 5.0    | 3.6    | 1.4    | 0.2    | setosa | ○      | \n",
       "| 5.4    | 3.9    | 1.7    | 0.4    | setosa | ○      | \n",
       "\n",
       "\n"
      ],
      "text/plain": [
       "  Sepal.Length Sepal.Width Petal.Length Petal.Width Species 出力\n",
       "1 5.1          3.5         1.4          0.2         setosa  ○   \n",
       "2 4.9          3.0         1.4          0.2         setosa  ×   \n",
       "3 4.7          3.2         1.3          0.2         setosa  ×   \n",
       "4 4.6          3.1         1.5          0.2         setosa  ×   \n",
       "5 5.0          3.6         1.4          0.2         setosa  ○   \n",
       "6 5.4          3.9         1.7          0.4         setosa  ○   "
      ]
     },
     "metadata": {},
     "output_type": "display_data"
    }
   ],
   "source": [
    "# 先程と同じ関数定義\n",
    "mark_long <- function(x) {\n",
    "  ifelse(x >= 5, T_CHR, F_CHR)\n",
    "}\n",
    "\n",
    "new_vals <- mark_long(iris$Sepal.Length)\n",
    "iris$`出力` <- new_vals\n",
    "head(iris)"
   ]
  },
  {
   "cell_type": "markdown",
   "metadata": {},
   "source": [
    "### 少し関数型言語らしく書く\n",
    "Rは上記のように手続き型で記述することもある程度は可能ですが、人によっては関数型言語に分類されることもあります。\n",
    "せっかくですので、代入処理を行わずに、先ほどの処理を記述してみましょう。"
   ]
  },
  {
   "cell_type": "code",
   "execution_count": 65,
   "metadata": {
    "scrolled": true
   },
   "outputs": [
    {
     "data": {
      "text/html": [
       "<table>\n",
       "<thead><tr><th scope=col>Sepal.Length</th><th scope=col>Sepal.Width</th><th scope=col>Petal.Length</th><th scope=col>Petal.Width</th><th scope=col>Species</th><th scope=col>出力</th></tr></thead>\n",
       "<tbody>\n",
       "\t<tr><td>5.1   </td><td>3.5   </td><td>1.4   </td><td>0.2   </td><td>setosa</td><td>○     </td></tr>\n",
       "\t<tr><td>4.9   </td><td>3.0   </td><td>1.4   </td><td>0.2   </td><td>setosa</td><td>×     </td></tr>\n",
       "\t<tr><td>4.7   </td><td>3.2   </td><td>1.3   </td><td>0.2   </td><td>setosa</td><td>×     </td></tr>\n",
       "\t<tr><td>4.6   </td><td>3.1   </td><td>1.5   </td><td>0.2   </td><td>setosa</td><td>×     </td></tr>\n",
       "\t<tr><td>5.0   </td><td>3.6   </td><td>1.4   </td><td>0.2   </td><td>setosa</td><td>○     </td></tr>\n",
       "\t<tr><td>5.4   </td><td>3.9   </td><td>1.7   </td><td>0.4   </td><td>setosa</td><td>○     </td></tr>\n",
       "</tbody>\n",
       "</table>\n"
      ],
      "text/latex": [
       "\\begin{tabular}{r|llllll}\n",
       " Sepal.Length & Sepal.Width & Petal.Length & Petal.Width & Species & 出力\\\\\n",
       "\\hline\n",
       "\t 5.1    & 3.5    & 1.4    & 0.2    & setosa & ○     \\\\\n",
       "\t 4.9    & 3.0    & 1.4    & 0.2    & setosa & ×     \\\\\n",
       "\t 4.7    & 3.2    & 1.3    & 0.2    & setosa & ×     \\\\\n",
       "\t 4.6    & 3.1    & 1.5    & 0.2    & setosa & ×     \\\\\n",
       "\t 5.0    & 3.6    & 1.4    & 0.2    & setosa & ○     \\\\\n",
       "\t 5.4    & 3.9    & 1.7    & 0.4    & setosa & ○     \\\\\n",
       "\\end{tabular}\n"
      ],
      "text/markdown": [
       "\n",
       "Sepal.Length | Sepal.Width | Petal.Length | Petal.Width | Species | 出力 | \n",
       "|---|---|---|---|---|---|\n",
       "| 5.1    | 3.5    | 1.4    | 0.2    | setosa | ○      | \n",
       "| 4.9    | 3.0    | 1.4    | 0.2    | setosa | ×      | \n",
       "| 4.7    | 3.2    | 1.3    | 0.2    | setosa | ×      | \n",
       "| 4.6    | 3.1    | 1.5    | 0.2    | setosa | ×      | \n",
       "| 5.0    | 3.6    | 1.4    | 0.2    | setosa | ○      | \n",
       "| 5.4    | 3.9    | 1.7    | 0.4    | setosa | ○      | \n",
       "\n",
       "\n"
      ],
      "text/plain": [
       "  Sepal.Length Sepal.Width Petal.Length Petal.Width Species 出力\n",
       "1 5.1          3.5         1.4          0.2         setosa  ○   \n",
       "2 4.9          3.0         1.4          0.2         setosa  ×   \n",
       "3 4.7          3.2         1.3          0.2         setosa  ×   \n",
       "4 4.6          3.1         1.5          0.2         setosa  ×   \n",
       "5 5.0          3.6         1.4          0.2         setosa  ○   \n",
       "6 5.4          3.9         1.7          0.4         setosa  ○   "
      ]
     },
     "metadata": {},
     "output_type": "display_data"
    }
   ],
   "source": [
    "iris %>%\n",
    "  dplyr::mutate(出力 = mark_long(Sepal.Length)) %>%\n",
    "  head()\n",
    "# A %>% B は B(A) を読みやすく記述するためのもの。指定がない場合、AはBの第一引数に渡される\n",
    "# %>% を使わない場合は以下のように記述する。\n",
    "# head(dplyr::mutate(iris, 出力 = mark_long(Sepal.Length)))"
   ]
  },
  {
   "cell_type": "markdown",
   "metadata": {},
   "source": [
    "別解として、後でとりあげる`purrr`系パッケージを用いる方法もあります。"
   ]
  },
  {
   "cell_type": "code",
   "execution_count": 67,
   "metadata": {},
   "outputs": [
    {
     "data": {
      "text/html": [
       "<table>\n",
       "<thead><tr><th scope=col>Sepal.Length</th><th scope=col>Sepal.Width</th><th scope=col>Petal.Length</th><th scope=col>Petal.Width</th><th scope=col>Species</th><th scope=col>出力</th></tr></thead>\n",
       "<tbody>\n",
       "\t<tr><td>5.1   </td><td>3.5   </td><td>1.4   </td><td>0.2   </td><td>setosa</td><td>○     </td></tr>\n",
       "\t<tr><td>4.9   </td><td>3.0   </td><td>1.4   </td><td>0.2   </td><td>setosa</td><td>×     </td></tr>\n",
       "\t<tr><td>4.7   </td><td>3.2   </td><td>1.3   </td><td>0.2   </td><td>setosa</td><td>×     </td></tr>\n",
       "\t<tr><td>4.6   </td><td>3.1   </td><td>1.5   </td><td>0.2   </td><td>setosa</td><td>×     </td></tr>\n",
       "\t<tr><td>5.0   </td><td>3.6   </td><td>1.4   </td><td>0.2   </td><td>setosa</td><td>○     </td></tr>\n",
       "\t<tr><td>5.4   </td><td>3.9   </td><td>1.7   </td><td>0.4   </td><td>setosa</td><td>○     </td></tr>\n",
       "</tbody>\n",
       "</table>\n"
      ],
      "text/latex": [
       "\\begin{tabular}{r|llllll}\n",
       " Sepal.Length & Sepal.Width & Petal.Length & Petal.Width & Species & 出力\\\\\n",
       "\\hline\n",
       "\t 5.1    & 3.5    & 1.4    & 0.2    & setosa & ○     \\\\\n",
       "\t 4.9    & 3.0    & 1.4    & 0.2    & setosa & ×     \\\\\n",
       "\t 4.7    & 3.2    & 1.3    & 0.2    & setosa & ×     \\\\\n",
       "\t 4.6    & 3.1    & 1.5    & 0.2    & setosa & ×     \\\\\n",
       "\t 5.0    & 3.6    & 1.4    & 0.2    & setosa & ○     \\\\\n",
       "\t 5.4    & 3.9    & 1.7    & 0.4    & setosa & ○     \\\\\n",
       "\\end{tabular}\n"
      ],
      "text/markdown": [
       "\n",
       "Sepal.Length | Sepal.Width | Petal.Length | Petal.Width | Species | 出力 | \n",
       "|---|---|---|---|---|---|\n",
       "| 5.1    | 3.5    | 1.4    | 0.2    | setosa | ○      | \n",
       "| 4.9    | 3.0    | 1.4    | 0.2    | setosa | ×      | \n",
       "| 4.7    | 3.2    | 1.3    | 0.2    | setosa | ×      | \n",
       "| 4.6    | 3.1    | 1.5    | 0.2    | setosa | ×      | \n",
       "| 5.0    | 3.6    | 1.4    | 0.2    | setosa | ○      | \n",
       "| 5.4    | 3.9    | 1.7    | 0.4    | setosa | ○      | \n",
       "\n",
       "\n"
      ],
      "text/plain": [
       "  Sepal.Length Sepal.Width Petal.Length Petal.Width Species 出力\n",
       "1 5.1          3.5         1.4          0.2         setosa  ○   \n",
       "2 4.9          3.0         1.4          0.2         setosa  ×   \n",
       "3 4.7          3.2         1.3          0.2         setosa  ×   \n",
       "4 4.6          3.1         1.5          0.2         setosa  ×   \n",
       "5 5.0          3.6         1.4          0.2         setosa  ○   \n",
       "6 5.4          3.9         1.7          0.4         setosa  ○   "
      ]
     },
     "metadata": {},
     "output_type": "display_data"
    }
   ],
   "source": [
    "mark_long_sepal <- function(row, colName) {\n",
    "  ifelse(row[[colName]] >= 5, T_CHR, F_CHR)\n",
    "}\n",
    "# '出力'列を追加し、Sepal.Lengthが5以上のものかどうかを見やすくする\n",
    "iris %>%\n",
    "  by_row(mark_long_sepal, colName='Sepal.Length', .to='出力') %>%\n",
    "  head() # 出力結果を見やすくするため、先頭のみ表示"
   ]
  },
  {
   "cell_type": "markdown",
   "metadata": {},
   "source": [
    "いかがでしたでしょうか。\n",
    "次のお題では、もう少しだけ複雑な処理を取り扱ってみます。"
   ]
  },
  {
   "cell_type": "markdown",
   "metadata": {},
   "source": [
    "# お題2: 表形式データをグループ化し、各グループの集計値を計算せよ\n",
    "今度は、先程とは少し違った表形式データを用いて、集計処理を行ってみましょう。"
   ]
  },
  {
   "cell_type": "code",
   "execution_count": 150,
   "metadata": {},
   "outputs": [
    {
     "data": {
      "text/html": [
       "<table>\n",
       "<thead><tr><th></th><th scope=col>mpg</th><th scope=col>cyl</th><th scope=col>disp</th><th scope=col>hp</th><th scope=col>drat</th><th scope=col>wt</th><th scope=col>qsec</th><th scope=col>vs</th><th scope=col>am</th><th scope=col>gear</th><th scope=col>carb</th></tr></thead>\n",
       "<tbody>\n",
       "\t<tr><th scope=row>Mazda RX4</th><td>21.0 </td><td>6    </td><td>160  </td><td>110  </td><td>3.90 </td><td>2.620</td><td>16.46</td><td>0    </td><td>1    </td><td>4    </td><td>4    </td></tr>\n",
       "\t<tr><th scope=row>Mazda RX4 Wag</th><td>21.0 </td><td>6    </td><td>160  </td><td>110  </td><td>3.90 </td><td>2.875</td><td>17.02</td><td>0    </td><td>1    </td><td>4    </td><td>4    </td></tr>\n",
       "\t<tr><th scope=row>Datsun 710</th><td>22.8 </td><td>4    </td><td>108  </td><td> 93  </td><td>3.85 </td><td>2.320</td><td>18.61</td><td>1    </td><td>1    </td><td>4    </td><td>1    </td></tr>\n",
       "\t<tr><th scope=row>Hornet 4 Drive</th><td>21.4 </td><td>6    </td><td>258  </td><td>110  </td><td>3.08 </td><td>3.215</td><td>19.44</td><td>1    </td><td>0    </td><td>3    </td><td>1    </td></tr>\n",
       "\t<tr><th scope=row>Hornet Sportabout</th><td>18.7 </td><td>8    </td><td>360  </td><td>175  </td><td>3.15 </td><td>3.440</td><td>17.02</td><td>0    </td><td>0    </td><td>3    </td><td>2    </td></tr>\n",
       "\t<tr><th scope=row>Valiant</th><td>18.1 </td><td>6    </td><td>225  </td><td>105  </td><td>2.76 </td><td>3.460</td><td>20.22</td><td>1    </td><td>0    </td><td>3    </td><td>1    </td></tr>\n",
       "</tbody>\n",
       "</table>\n"
      ],
      "text/latex": [
       "\\begin{tabular}{r|lllllllllll}\n",
       "  & mpg & cyl & disp & hp & drat & wt & qsec & vs & am & gear & carb\\\\\n",
       "\\hline\n",
       "\tMazda RX4 & 21.0  & 6     & 160   & 110   & 3.90  & 2.620 & 16.46 & 0     & 1     & 4     & 4    \\\\\n",
       "\tMazda RX4 Wag & 21.0  & 6     & 160   & 110   & 3.90  & 2.875 & 17.02 & 0     & 1     & 4     & 4    \\\\\n",
       "\tDatsun 710 & 22.8  & 4     & 108   &  93   & 3.85  & 2.320 & 18.61 & 1     & 1     & 4     & 1    \\\\\n",
       "\tHornet 4 Drive & 21.4  & 6     & 258   & 110   & 3.08  & 3.215 & 19.44 & 1     & 0     & 3     & 1    \\\\\n",
       "\tHornet Sportabout & 18.7  & 8     & 360   & 175   & 3.15  & 3.440 & 17.02 & 0     & 0     & 3     & 2    \\\\\n",
       "\tValiant & 18.1  & 6     & 225   & 105   & 2.76  & 3.460 & 20.22 & 1     & 0     & 3     & 1    \\\\\n",
       "\\end{tabular}\n"
      ],
      "text/markdown": [
       "\n",
       "| <!--/--> | mpg | cyl | disp | hp | drat | wt | qsec | vs | am | gear | carb | \n",
       "|---|---|---|---|---|---|\n",
       "| Mazda RX4 | 21.0  | 6     | 160   | 110   | 3.90  | 2.620 | 16.46 | 0     | 1     | 4     | 4     | \n",
       "| Mazda RX4 Wag | 21.0  | 6     | 160   | 110   | 3.90  | 2.875 | 17.02 | 0     | 1     | 4     | 4     | \n",
       "| Datsun 710 | 22.8  | 4     | 108   |  93   | 3.85  | 2.320 | 18.61 | 1     | 1     | 4     | 1     | \n",
       "| Hornet 4 Drive | 21.4  | 6     | 258   | 110   | 3.08  | 3.215 | 19.44 | 1     | 0     | 3     | 1     | \n",
       "| Hornet Sportabout | 18.7  | 8     | 360   | 175   | 3.15  | 3.440 | 17.02 | 0     | 0     | 3     | 2     | \n",
       "| Valiant | 18.1  | 6     | 225   | 105   | 2.76  | 3.460 | 20.22 | 1     | 0     | 3     | 1     | \n",
       "\n",
       "\n"
      ],
      "text/plain": [
       "                  mpg  cyl disp hp  drat wt    qsec  vs am gear carb\n",
       "Mazda RX4         21.0 6   160  110 3.90 2.620 16.46 0  1  4    4   \n",
       "Mazda RX4 Wag     21.0 6   160  110 3.90 2.875 17.02 0  1  4    4   \n",
       "Datsun 710        22.8 4   108   93 3.85 2.320 18.61 1  1  4    1   \n",
       "Hornet 4 Drive    21.4 6   258  110 3.08 3.215 19.44 1  0  3    1   \n",
       "Hornet Sportabout 18.7 8   360  175 3.15 3.440 17.02 0  0  3    2   \n",
       "Valiant           18.1 6   225  105 2.76 3.460 20.22 1  0  3    1   "
      ]
     },
     "metadata": {},
     "output_type": "display_data"
    }
   ],
   "source": [
    "head(mtcars)\n",
    "#?mtcars"
   ]
  },
  {
   "cell_type": "markdown",
   "metadata": {},
   "source": [
    "このデータも統計学習でよく使われるもので、1973～74年に販売された32の車種に関するロードテストの評価データです。\n",
    "一応データの意味も見ていきますと、行ごとに各車種の結果があり、それぞれの列の意味は以下のようになっています。\n",
    "\n",
    "```\n",
    "Format\n",
    "A data frame with 32 observations on 11 variables.\n",
    "[, 1]\tmpg\tMiles/(US) gallon\n",
    "[, 2]\tcyl\tNumber of cylinders\n",
    "[, 3]\tdisp\tDisplacement (cu.in.)\n",
    "[, 4]\thp\tGross horsepower\n",
    "[, 5]\tdrat\tRear axle ratio\n",
    "[, 6]\twt\tWeight (1000 lbs)\n",
    "[, 7]\tqsec\t1/4 mile time\n",
    "[, 8]\tvs\tV/S\n",
    "[, 9]\tam\tTransmission (0 = automatic, 1 = manual)\n",
    "[,10]\tgear\tNumber of forward gears\n",
    "[,11]\tcarb\tNumber of carburetors\n",
    "```"
   ]
  },
  {
   "cell_type": "markdown",
   "metadata": {},
   "source": [
    "このデータを用いて、エンジン気筒数(`cyl`)ごとに、燃費(`mpg`)と車重(`wt`)の単回帰分析を行い、**エンジン気筒数ごとの決定係数を算出してください。**\n",
    "\n",
    "また、決定係数が0.5以上の場合、(乱暴な解釈でよければ)このモデルはそこそこあてはまりが良いと考えることが出来ます。このことを踏まえて、**結果から何か考察が可能でしょうか。**\n",
    "\n",
    "参考に、全車種を用いた、燃費と車重の散布図を表示しておきます。"
   ]
  },
  {
   "cell_type": "code",
   "execution_count": 107,
   "metadata": {},
   "outputs": [
    {
     "data": {
      "image/png": "[encoded data removed]",
      "text/plain": [
       "plot without title"
      ]
     },
     "metadata": {},
     "output_type": "display_data"
    }
   ],
   "source": [
    "plot(mpg ~ wt, data = mtcars)"
   ]
  },
  {
   "cell_type": "markdown",
   "metadata": {},
   "source": [
    "### Rをはじめて触る人が書きそうなコード\n",
    "単回帰については、先輩に\n",
    "\n",
    "```\n",
    "lm(mpg ~ wt, data = data)\n",
    "```\n",
    "\n",
    "でモデルを生成できるよ、と教えてもらいました。\n",
    "\n",
    "素朴にfor文で書くと、以下のようになるのではないかと思います。"
   ]
  },
  {
   "cell_type": "code",
   "execution_count": 115,
   "metadata": {},
   "outputs": [
    {
     "data": {
      "text/html": [
       "<dl class=dl-horizontal>\n",
       "\t<dt>4</dt>\n",
       "\t\t<dd>0.50863259632314</dd>\n",
       "\t<dt>6</dt>\n",
       "\t\t<dd>0.464510150550548</dd>\n",
       "\t<dt>8</dt>\n",
       "\t\t<dd>0.422965536496111</dd>\n",
       "</dl>\n"
      ],
      "text/latex": [
       "\\begin{description*}\n",
       "\\item[4] 0.50863259632314\n",
       "\\item[6] 0.464510150550548\n",
       "\\item[8] 0.422965536496111\n",
       "\\end{description*}\n"
      ],
      "text/markdown": [
       "4\n",
       ":   0.508632596323146\n",
       ":   0.4645101505505488\n",
       ":   0.422965536496111\n",
       "\n"
      ],
      "text/plain": [
       "        4         6         8 \n",
       "0.5086326 0.4645102 0.4229655 "
      ]
     },
     "metadata": {},
     "output_type": "display_data"
    }
   ],
   "source": [
    "# 関数定義\n",
    "# グループ化されたデータが与えられた時に、単回帰分析を行い、決定係数を返します。\n",
    "calc_r2 <- function(data) {\n",
    "  model <- lm(mpg ~ wt, data = data)\n",
    "  summary(model)$r.squared # 上記のmodelは決定係数を保持しています。\n",
    "}\n",
    "\n",
    "# 処理部\n",
    "\n",
    "# cyl: 表形式データをcyl(シリンダー数)で分割。R的にはlistと呼ばれるデータ形式に各data.frameが格納される形になります。\n",
    "mtcars_cyl_list <- split(mtcars, mtcars$cyl)\n",
    "r2s <- c() # 結果の格納先\n",
    "for (data in mtcars_cyl_list) {\n",
    "  model <- lm(mpg ~ wt, data = data)\n",
    "  r2 <- summary(model)$r.squared # 上記のmodelは決定係数を保持しています。\n",
    "  r2s <- c(r2s, r2) # 追加\n",
    "}\n",
    "names(r2s) <- names(mtcars_cyl_list) # 結果の表示用に、シリンダー数を名前として付ける\n",
    "r2s"
   ]
  },
  {
   "cell_type": "markdown",
   "metadata": {},
   "source": [
    "### Rを少しかじっている人\n",
    "Rには標準で`for`文を避けるために用意された、(初心者殺しと悪名高い)`apply`一家(ファミリー)と呼ばれる関数群があります。\n",
    "試しにこれを使ってみましょう。"
   ]
  },
  {
   "cell_type": "code",
   "execution_count": 116,
   "metadata": {},
   "outputs": [
    {
     "data": {
      "text/html": [
       "<dl class=dl-horizontal>\n",
       "\t<dt>4</dt>\n",
       "\t\t<dd>0.50863259632314</dd>\n",
       "\t<dt>6</dt>\n",
       "\t\t<dd>0.464510150550548</dd>\n",
       "\t<dt>8</dt>\n",
       "\t\t<dd>0.422965536496111</dd>\n",
       "</dl>\n"
      ],
      "text/latex": [
       "\\begin{description*}\n",
       "\\item[4] 0.50863259632314\n",
       "\\item[6] 0.464510150550548\n",
       "\\item[8] 0.422965536496111\n",
       "\\end{description*}\n"
      ],
      "text/markdown": [
       "4\n",
       ":   0.508632596323146\n",
       ":   0.4645101505505488\n",
       ":   0.422965536496111\n",
       "\n"
      ],
      "text/plain": [
       "        4         6         8 \n",
       "0.5086326 0.4645102 0.4229655 "
      ]
     },
     "metadata": {},
     "output_type": "display_data"
    }
   ],
   "source": [
    "sapply(mtcars_cyl_list, function(data) {\n",
    "  model <- lm(mpg ~ wt, data = data)\n",
    "  summary(model)$r.squared # 上記のmodelは決定係数を保持しています。\n",
    "})"
   ]
  },
  {
   "cell_type": "markdown",
   "metadata": {},
   "source": [
    "幾分簡潔に記述できましたね。\n",
    "\n",
    "ただし、apply系関数は以下のように5通りあります。\n",
    "- apply\n",
    "- sapply\n",
    "- lapply\n",
    "- tapply\n",
    "- mapply\n",
    "\n",
    "実際に使用する場合は、用途に応じて適切なものを選ぶ必要があります。この辺りが、難しいと言われる所以でしょう。"
   ]
  },
  {
   "cell_type": "markdown",
   "metadata": {},
   "source": [
    "### 関数型言語らしく書く\n",
    "上の方法でも、無名関数内(`function(data){}`)の処理を1文にまとめれば良さそうですが、最近ぽい書き方も試してみましょう。"
   ]
  },
  {
   "cell_type": "code",
   "execution_count": 137,
   "metadata": {
    "scrolled": true
   },
   "outputs": [
    {
     "data": {
      "text/html": [
       "<dl class=dl-horizontal>\n",
       "\t<dt>4</dt>\n",
       "\t\t<dd>0.50863259632314</dd>\n",
       "\t<dt>6</dt>\n",
       "\t\t<dd>0.464510150550548</dd>\n",
       "\t<dt>8</dt>\n",
       "\t\t<dd>0.422965536496111</dd>\n",
       "</dl>\n"
      ],
      "text/latex": [
       "\\begin{description*}\n",
       "\\item[4] 0.50863259632314\n",
       "\\item[6] 0.464510150550548\n",
       "\\item[8] 0.422965536496111\n",
       "\\end{description*}\n"
      ],
      "text/markdown": [
       "4\n",
       ":   0.508632596323146\n",
       ":   0.4645101505505488\n",
       ":   0.422965536496111\n",
       "\n"
      ],
      "text/plain": [
       "        4         6         8 \n",
       "0.5086326 0.4645102 0.4229655 "
      ]
     },
     "metadata": {},
     "output_type": "display_data"
    }
   ],
   "source": [
    "mtcars %>%\n",
    "  split(.$cyl) %>%\n",
    "  map(~ lm(mpg ~ wt, data = .x)) %>%\n",
    "  map(summary) %>%\n",
    "  map_dbl(\"r.squared\")"
   ]
  },
  {
   "cell_type": "markdown",
   "metadata": {},
   "source": [
    "## ところで、なんでfor文てダメだったんだっけ\n",
    "\n",
    "一番はじめに出てきた`for`文のコードをもう一度、今度はコメント付きで掲載します。"
   ]
  },
  {
   "cell_type": "code",
   "execution_count": 122,
   "metadata": {
    "collapsed": true
   },
   "outputs": [],
   "source": [
    "r2s <- c() # 結果の格納先\n",
    "# 言語によっては for(int i = 0; i < length(Sepal.Length); ++i) のような処理になる。\n",
    "#   iなどのアクセサで配列にアクセスすること自体、可読性が悪い。indexのような名前にしても\n",
    "#   index + 1 などのような処理を許してしまうことが多く、保守性の良くないコードやバグの温床となる。\n",
    "#   さらに、2重以上のループの場合、第3者が意図をひと目で理解することはほとんど不可能である。\n",
    "for (data in mtcars_cyl_list) {\n",
    "  model <- lm(mpg ~ wt, data = data)\n",
    "  r2 <- summary(model)$r.squared # 上記のmodelは決定係数を保持しています。\n",
    "  # for文の内部で、forのスコープ外の状態(変数など)を代入処理などで変更すると、\n",
    "  # この部分の処理は直列処理となり、並列化できなくなる。\n",
    "  # 工夫されている言語やライブラリでは並列forをサポートする場合もあるが、代入操作に関しては同様の扱い。\n",
    "  # （このような処理を「副作用がある」と呼ぶことがある。ループ内での副作用はコードスタイルとしては推奨されないことが多い。\n",
    "  r2s <- c(r2s, r2) # 追加\n",
    "}"
   ]
  },
  {
   "cell_type": "markdown",
   "metadata": {},
   "source": [
    "- インデックスを用いることが、可読性や保守性の観点から良くない。\n",
    "  - モダンな言語では、イテレータを使うようになってる。\n",
    "- ループ内で状態を変更するコードは並列化が難しい。動的言語では、解析時までループ内の状態がわからないため、副作用のないループコードでも自動で並列化することは難しい。"
   ]
  },
  {
   "cell_type": "code",
   "execution_count": null,
   "metadata": {
    "collapsed": true
   },
   "outputs": [],
   "source": [
    "mtcars %>%\n",
    "  split(.$cyl) %>%\n",
    "  # 原理的にはここ以降の処理を並列化できる。\n",
    "  map(~ lm(mpg ~ wt, data = .x)) %>%\n",
    "  map(summary) %>%\n",
    "  map_dbl(\"r.squared\")"
   ]
  },
  {
   "cell_type": "markdown",
   "metadata": {},
   "source": [
    "cf. https://twitter.com/hadleywickham/status/840316630496239616"
   ]
  },
  {
   "cell_type": "markdown",
   "metadata": {
    "collapsed": true
   },
   "source": [
    "## 結論\n",
    "\n",
    "- for文は全く使う必要がない\n",
    "- 大抵の処理は代入演算すら不要\n",
    "\n",
    "**みんな、関数型の考え方に気軽に触れてみましょう**\n"
   ]
  },
  {
   "cell_type": "markdown",
   "metadata": {},
   "source": [
    "# 以降、質問コーナーで出たもの"
   ]
  },
  {
   "cell_type": "markdown",
   "metadata": {},
   "source": [
    "## Rの`<-`演算子と`=`演算子は何が違うんですか？\n",
    "- あまり違いはないが、`<-`は代入操作、`=`は引数の割当等に使われることが多い。\n",
    "- list()やdata.frame()の中で`<-`を使うこともできるが、結果が人の理解を超えると思われるので、使わないほうがいい。"
   ]
  },
  {
   "cell_type": "code",
   "execution_count": 176,
   "metadata": {},
   "outputs": [
    {
     "data": {
      "text/html": [
       "3"
      ],
      "text/latex": [
       "3"
      ],
      "text/markdown": [
       "3"
      ],
      "text/plain": [
       "[1] 3"
      ]
     },
     "metadata": {},
     "output_type": "display_data"
    }
   ],
   "source": [
    "# a <- 3 と同じ\n",
    "a = 3\n",
    "a"
   ]
  },
  {
   "cell_type": "code",
   "execution_count": 175,
   "metadata": {},
   "outputs": [
    {
     "data": {
      "text/html": [
       "3"
      ],
      "text/latex": [
       "3"
      ],
      "text/markdown": [
       "3"
      ],
      "text/plain": [
       "[1] 3"
      ]
     },
     "metadata": {},
     "output_type": "display_data"
    }
   ],
   "source": [
    "# <- は -> として左辺を右辺に代入することもできる\n",
    "3 -> a\n",
    "a"
   ]
  },
  {
   "cell_type": "code",
   "execution_count": 152,
   "metadata": {},
   "outputs": [
    {
     "ename": "ERROR",
     "evalue": "Error in 3 = a: invalid (do_set) left-hand side to assignment\n",
     "output_type": "error",
     "traceback": [
      "Error in 3 = a: invalid (do_set) left-hand side to assignment\nTraceback:\n"
     ]
    }
   ],
   "source": [
    "# = 演算子では上のようなことはできない。\n",
    "3 = a"
   ]
  },
  {
   "cell_type": "markdown",
   "metadata": {},
   "source": [
    "## 関数に引数を指定するときの名前付け渡しについて\n",
    "- 名前付きで引数を指定する場合、関数の引数順序は自由に変更できる。"
   ]
  },
  {
   "cell_type": "code",
   "execution_count": 157,
   "metadata": {},
   "outputs": [
    {
     "data": {
      "text/html": [
       "7"
      ],
      "text/latex": [
       "7"
      ],
      "text/markdown": [
       "7"
      ],
      "text/plain": [
       "[1] 7"
      ]
     },
     "metadata": {},
     "output_type": "display_data"
    }
   ],
   "source": [
    "hoge <- function(a, b) { a + b }\n",
    "hoge(2,5)"
   ]
  },
  {
   "cell_type": "code",
   "execution_count": 160,
   "metadata": {},
   "outputs": [
    {
     "data": {
      "text/html": [
       "4"
      ],
      "text/latex": [
       "4"
      ],
      "text/markdown": [
       "4"
      ],
      "text/plain": [
       "[1] 4"
      ]
     },
     "metadata": {},
     "output_type": "display_data"
    }
   ],
   "source": [
    "hoge(b <- 2, a <- 2)"
   ]
  }
 ],
 "metadata": {
  "kernelspec": {
   "display_name": "R",
   "language": "R",
   "name": "ir"
  },
  "language_info": {
   "codemirror_mode": "r",
   "file_extension": ".r",
   "mimetype": "text/x-r-source",
   "name": "R",
   "pygments_lexer": "r",
   "version": "3.3.2"
  }
 },
 "nbformat": 4,
 "nbformat_minor": 2
}
